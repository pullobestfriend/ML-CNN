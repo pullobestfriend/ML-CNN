{
  "nbformat": 4,
  "nbformat_minor": 0,
  "metadata": {
    "colab": {
      "name": "Copy of CNN.ipynb",
      "version": "0.3.2",
      "provenance": [],
      "include_colab_link": true
    },
    "kernelspec": {
      "name": "python3",
      "display_name": "Python 3"
    },
    "accelerator": "GPU"
  },
  "cells": [
    {
      "cell_type": "markdown",
      "metadata": {
        "id": "view-in-github",
        "colab_type": "text"
      },
      "source": [
        "<a href=\"https://colab.research.google.com/github/pullobestfriend/ML-CNN/blob/master/CNN.ipynb\" target=\"_parent\"><img src=\"https://colab.research.google.com/assets/colab-badge.svg\" alt=\"Open In Colab\"/></a>"
      ]
    },
    {
      "metadata": {
        "id": "ET-TrNTHlTUu",
        "colab_type": "code",
        "colab": {}
      },
      "cell_type": "code",
      "source": [
        "#enabling access to drive folders\n",
        "from google.colab import drive\n",
        "drive.mount('/content/drive/')"
      ],
      "execution_count": 0,
      "outputs": []
    },
    {
      "metadata": {
        "id": "X0qvu2gDmadz",
        "colab_type": "code",
        "colab": {}
      },
      "cell_type": "code",
      "source": [
        "#cloning example\n",
        "!git clone https://github.com/wxs/keras-mnist-tutorial.git"
      ],
      "execution_count": 0,
      "outputs": []
    },
    {
      "metadata": {
        "id": "NS5hJFmnnsEW",
        "colab_type": "code",
        "colab": {}
      },
      "cell_type": "code",
      "source": [
        "#installing keras\n",
        "!pip install -q keras"
      ],
      "execution_count": 0,
      "outputs": []
    },
    {
      "metadata": {
        "id": "CZyCV9-Hnvqp",
        "colab_type": "code",
        "colab": {}
      },
      "cell_type": "code",
      "source": [
        "import keras"
      ],
      "execution_count": 0,
      "outputs": []
    },
    {
      "metadata": {
        "id": "yZ5C0n0ooMoB",
        "colab_type": "code",
        "colab": {}
      },
      "cell_type": "code",
      "source": [
        "#trying out a CNN example\n",
        "!python3 \"/content/drive/My Drive/Pembelajaran Mesin/Tugas 5/mnist_cnn_from_medium.py\""
      ],
      "execution_count": 0,
      "outputs": []
    },
    {
      "metadata": {
        "id": "IMdvW8ppqsq3",
        "colab_type": "code",
        "outputId": "c112f4e9-49db-414e-baf3-a33653d6274e",
        "colab": {
          "base_uri": "https://localhost:8080/",
          "height": 1159
        }
      },
      "cell_type": "code",
      "source": [
        "#trying my own CNN model based on https://cdn-images-1.medium.com/max/1600/1*Y8bNY14WO0jAnoTkX2DDFQ.jpeg\n",
        "from keras.models import Sequential\n",
        "from keras.layers import Dense, Conv2D, Flatten, ZeroPadding2D, MaxPooling2D\n",
        "from keras.datasets import mnist\n",
        "from keras.utils import to_categorical\n",
        "\n",
        "(X_train, Y_train), (X_test, Y_test) = mnist.load_data()\n",
        "\n",
        "X_train = X_train.reshape(60000,28,28,1)\n",
        "X_test = X_test.reshape(10000,28,28,1)\n",
        "\n",
        "Y_train = to_categorical(Y_train)\n",
        "Y_test = to_categorical(Y_test)\n",
        "\n",
        "model = Sequential()\n",
        "model.add(ZeroPadding2D(2, input_shape=(28, 28, 1)))\n",
        "model.add(Conv2D(16, kernel_size=5, strides=(3, 3), activation='relu', input_shape=(32,32,1)))\n",
        "model.add(MaxPooling2D(pool_size=(2, 2), strides=2))\n",
        "model.add(Conv2D(32, kernel_size=3, strides=(1, 1), activation='relu', input_shape=(5,5,16)))\n",
        "model.add(ZeroPadding2D(1, input_shape=(3, 3, 32)))\n",
        "model.add(Conv2D(64, kernel_size=3, strides=(1, 1), activation='relu', input_shape=(5,5,32)))\n",
        "model.add(Flatten())\n",
        "model.add(Dense(256, activation='relu'))\n",
        "model.add(Dense(64, activation='relu'))\n",
        "model.add(Dense(10, activation='softmax'))\n",
        "\n",
        "model.summary()\n",
        "\n",
        "model.compile(optimizer='adam', loss='categorical_crossentropy', metrics=['accuracy'])\n",
        "\n",
        "history = model.fit(X_train, Y_train, epochs=15, batch_size=128,\n",
        "                    validation_data=(X_test,Y_test))\n",
        "\n",
        "test_out = model.predict(X_test)\n",
        "\n",
        "from numpy import argmax\n",
        "acc = (argmax(test_out,axis=1) == argmax(Y_test,axis=1)).sum() / len(Y_test)\n",
        "\n",
        "print(\"Accuracy = {}\".format(acc))\n",
        "\n",
        "model.save('/content/drive/My Drive/Pembelajaran Mesin/Tugas 5/model.h5')"
      ],
      "execution_count": 0,
      "outputs": [
        {
          "output_type": "stream",
          "text": [
            "Using TensorFlow backend.\n"
          ],
          "name": "stderr"
        },
        {
          "output_type": "stream",
          "text": [
            "WARNING:tensorflow:From /usr/local/lib/python3.6/dist-packages/tensorflow/python/framework/op_def_library.py:263: colocate_with (from tensorflow.python.framework.ops) is deprecated and will be removed in a future version.\n",
            "Instructions for updating:\n",
            "Colocations handled automatically by placer.\n",
            "_________________________________________________________________\n",
            "Layer (type)                 Output Shape              Param #   \n",
            "=================================================================\n",
            "zero_padding2d_1 (ZeroPaddin (None, 32, 32, 1)         0         \n",
            "_________________________________________________________________\n",
            "conv2d_1 (Conv2D)            (None, 10, 10, 16)        416       \n",
            "_________________________________________________________________\n",
            "max_pooling2d_1 (MaxPooling2 (None, 5, 5, 16)          0         \n",
            "_________________________________________________________________\n",
            "conv2d_2 (Conv2D)            (None, 3, 3, 32)          4640      \n",
            "_________________________________________________________________\n",
            "zero_padding2d_2 (ZeroPaddin (None, 5, 5, 32)          0         \n",
            "_________________________________________________________________\n",
            "conv2d_3 (Conv2D)            (None, 3, 3, 64)          18496     \n",
            "_________________________________________________________________\n",
            "flatten_1 (Flatten)          (None, 576)               0         \n",
            "_________________________________________________________________\n",
            "dense_1 (Dense)              (None, 256)               147712    \n",
            "_________________________________________________________________\n",
            "dense_2 (Dense)              (None, 64)                16448     \n",
            "_________________________________________________________________\n",
            "dense_3 (Dense)              (None, 10)                650       \n",
            "=================================================================\n",
            "Total params: 188,362\n",
            "Trainable params: 188,362\n",
            "Non-trainable params: 0\n",
            "_________________________________________________________________\n",
            "WARNING:tensorflow:From /usr/local/lib/python3.6/dist-packages/tensorflow/python/ops/math_ops.py:3066: to_int32 (from tensorflow.python.ops.math_ops) is deprecated and will be removed in a future version.\n",
            "Instructions for updating:\n",
            "Use tf.cast instead.\n",
            "Train on 60000 samples, validate on 10000 samples\n",
            "Epoch 1/15\n",
            "60000/60000 [==============================] - 6s 93us/step - loss: 0.7409 - acc: 0.8726 - val_loss: 0.1459 - val_acc: 0.9534\n",
            "Epoch 2/15\n",
            "60000/60000 [==============================] - 4s 65us/step - loss: 0.1147 - acc: 0.9640 - val_loss: 0.1045 - val_acc: 0.9683\n",
            "Epoch 3/15\n",
            "60000/60000 [==============================] - 4s 65us/step - loss: 0.0800 - acc: 0.9742 - val_loss: 0.0761 - val_acc: 0.9759\n",
            "Epoch 4/15\n",
            "60000/60000 [==============================] - 4s 65us/step - loss: 0.0625 - acc: 0.9800 - val_loss: 0.1027 - val_acc: 0.9693\n",
            "Epoch 5/15\n",
            "60000/60000 [==============================] - 4s 66us/step - loss: 0.0541 - acc: 0.9832 - val_loss: 0.0811 - val_acc: 0.9758\n",
            "Epoch 6/15\n",
            "60000/60000 [==============================] - 4s 65us/step - loss: 0.0469 - acc: 0.9846 - val_loss: 0.0667 - val_acc: 0.9789\n",
            "Epoch 7/15\n",
            "60000/60000 [==============================] - 4s 65us/step - loss: 0.0426 - acc: 0.9856 - val_loss: 0.0740 - val_acc: 0.9792\n",
            "Epoch 8/15\n",
            "60000/60000 [==============================] - 4s 65us/step - loss: 0.0376 - acc: 0.9882 - val_loss: 0.0647 - val_acc: 0.9817\n",
            "Epoch 9/15\n",
            "60000/60000 [==============================] - 4s 65us/step - loss: 0.0364 - acc: 0.9882 - val_loss: 0.0756 - val_acc: 0.9800\n",
            "Epoch 10/15\n",
            "60000/60000 [==============================] - 4s 65us/step - loss: 0.0331 - acc: 0.9898 - val_loss: 0.0751 - val_acc: 0.9793\n",
            "Epoch 11/15\n",
            "60000/60000 [==============================] - 4s 65us/step - loss: 0.0325 - acc: 0.9894 - val_loss: 0.0752 - val_acc: 0.9783\n",
            "Epoch 12/15\n",
            "60000/60000 [==============================] - 4s 65us/step - loss: 0.0331 - acc: 0.9895 - val_loss: 0.0724 - val_acc: 0.9815\n",
            "Epoch 13/15\n",
            "60000/60000 [==============================] - 4s 65us/step - loss: 0.0264 - acc: 0.9913 - val_loss: 0.0800 - val_acc: 0.9799\n",
            "Epoch 14/15\n",
            "60000/60000 [==============================] - 4s 65us/step - loss: 0.0269 - acc: 0.9913 - val_loss: 0.0735 - val_acc: 0.9822\n",
            "Epoch 15/15\n",
            "60000/60000 [==============================] - 4s 66us/step - loss: 0.0249 - acc: 0.9922 - val_loss: 0.0849 - val_acc: 0.9785\n",
            "Accuracy = 0.9785\n"
          ],
          "name": "stdout"
        }
      ]
    }
  ]
}